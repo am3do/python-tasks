{
 "cells": [
  {
   "cell_type": "markdown",
   "metadata": {},
   "source": [
    "# Code korrigieren"
   ]
  },
  {
   "cell_type": "markdown",
   "metadata": {},
   "source": [
    "Korrigiere die Code-Zellen so, dass Sie korrekt ausgeführt werden."
   ]
  },
  {
   "cell_type": "code",
   "execution_count": null,
   "metadata": {},
   "outputs": [],
   "source": [
    "print\"Das hast du gut gemacht!)"
   ]
  },
  {
   "cell_type": "markdown",
   "metadata": {},
   "source": [
    "Die Ausgabe soll lauten:\n",
    "`Jan ist 15 Jahre alt.`"
   ]
  },
  {
   "cell_type": "code",
   "execution_count": null,
   "metadata": {},
   "outputs": [],
   "source": [
    "a = 15\n",
    "name : Jan\n",
    "\n",
    "print(Jan, a, \"jahre alt.\")"
   ]
  },
  {
   "cell_type": "markdown",
   "metadata": {},
   "source": [
    "Ändere so, dass eine Ausgabe erfolgt."
   ]
  },
  {
   "cell_type": "code",
   "execution_count": 1,
   "metadata": {},
   "outputs": [
    {
     "name": "stdout",
     "output_type": "stream",
     "text": [
      "Alan ist jünger als Murat\n"
     ]
    }
   ],
   "source": [
    "murat = 8\n",
    "alan = 1\n",
    "\n",
    "if alan > murat:\n",
    "    print(\"Alan ist jünger als Murat\")"
   ]
  },
  {
   "cell_type": "markdown",
   "metadata": {},
   "source": [
    "Schreibe eine Kontrollstruktur (if-else-Bedingungen), die für beide Zahlen prüft, ob\n",
    "- ob die eine größer oder kleiner als die andere ist oder\n",
    "- ob beide Zahlen gleich groß sind\n",
    "und das Prüfungsergebnis ausgibt."
   ]
  },
  {
   "cell_type": "code",
   "execution_count": null,
   "metadata": {},
   "outputs": [],
   "source": [
    "z1 = 8\n",
    "z2 = 13\n",
    "\n",
    "if ... :\n",
    "    print(\"Die erste Zahl ist größer/kleiner als die zweite.\")\n",
    "    print(\"Die erste Zahl ist größer/kleiner als die zweite.\")"
   ]
  },
  {
   "cell_type": "code",
   "execution_count": null,
   "metadata": {},
   "outputs": [],
   "source": []
  }
 ],
 "metadata": {
  "kernelspec": {
   "display_name": "Python 3",
   "language": "python",
   "name": "python3"
  },
  "language_info": {
   "codemirror_mode": {
    "name": "ipython",
    "version": 3
   },
   "file_extension": ".py",
   "mimetype": "text/x-python",
   "name": "python",
   "nbconvert_exporter": "python",
   "pygments_lexer": "ipython3",
   "version": "3.11.4"
  }
 },
 "nbformat": 4,
 "nbformat_minor": 2
}
