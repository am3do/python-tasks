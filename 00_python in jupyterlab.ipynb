{
 "cells": [
  {
   "cell_type": "markdown",
   "id": "5c6513c0-c1c7-470d-a31e-0510eca66ea3",
   "metadata": {},
   "source": [
    "# Einstiegsübungen in Python mit Jupyter Lab\n",
    "\n",
    "Mit diesem Notebook, so heißen die sogenannten interaktiven Notizbücher in Jupyterlab, kannst du flexibel Python-Code schreiben und ausführen. Zwischen den Code-Blöcken (Zellen genannt), kannst du Kommentare hineinschreiben."
   ]
  },
  {
   "cell_type": "markdown",
   "id": "74550a1e",
   "metadata": {},
   "source": [
    "## Dein erster Python-Code in Jupyterlab\n",
    "Klicke in die Zeile, und halte die Shift-Taste gedrückt, während du auf Enter drückst. Damit führst du den Code in dieser Zelle aus. Probiere es gleich aus."
   ]
  },
  {
   "cell_type": "code",
   "execution_count": 1,
   "id": "3e0475ca-65ff-47fe-b1d8-e16f181b61d6",
   "metadata": {},
   "outputs": [
    {
     "name": "stdout",
     "output_type": "stream",
     "text": [
      "hello\n"
     ]
    }
   ],
   "source": [
    "print(\"hello\")"
   ]
  },
  {
   "cell_type": "markdown",
   "id": "633e99a3",
   "metadata": {},
   "source": [
    "## Text in Markdown\n",
    "Markdown ist eine sogenannte Markup-Sprache, mit der man Texte gut sturkturieren kann. Ein paar einfache Befehle sind\n",
    "\n",
    "- `#` für eine Überschrift der Ebene 1\n",
    "- `##` für eine Überschrift der Ebene 2 etc.\n",
    "- Du kannst Text **fett** und *kursiv* schreiben oder ihn <mark>hervorheben<mark>.\n",
    "\n",
    "Es ist vieles mehr möglich: Wenn du dich richtig austoben möchtest, schaue in diesem [Cheat Sheet](https://www.markdownguide.org/cheat-sheet/) nach. Ach und um zu sehen, wie ich das mache, wechsle mit einem Enter oder Doppelklick einfach in den Editiermodus, dann kannst du auch direkt spicken :-)."
   ]
  },
  {
   "cell_type": "markdown",
   "id": "9e9e3ddc",
   "metadata": {},
   "source": [
    "## Ausgeführter Code vs. Nicht ausgeführter Code\n",
    "\n",
    "Du kannst jede Zelle in Jupyterlab unabhängig voneinander anlegen. Wenn du jedoch Code in mehrere Zellen aufteilst, der Teile enthält, die von anderen Teilen abhänggen musst du aufpassen, dass die Voraussetzungen erfüllt sind. Wir klären das mit einem einfachen Beispiel."
   ]
  },
  {
   "cell_type": "markdown",
   "id": "9aa3be8f",
   "metadata": {},
   "source": [
    "**Führe die folgende Zelle nicht aus!**"
   ]
  },
  {
   "cell_type": "code",
   "execution_count": 2,
   "id": "99b15cec",
   "metadata": {},
   "outputs": [],
   "source": [
    "a = 5"
   ]
  },
  {
   "cell_type": "markdown",
   "id": "187bb012",
   "metadata": {},
   "source": [
    "... führe stattdessen, diese Zelle aus:"
   ]
  },
  {
   "cell_type": "code",
   "execution_count": 4,
   "id": "f20edc43",
   "metadata": {},
   "outputs": [
    {
     "data": {
      "text/plain": [
       "5"
      ]
     },
     "execution_count": 4,
     "metadata": {},
     "output_type": "execute_result"
    }
   ],
   "source": [
    "print(a)"
   ]
  },
  {
   "cell_type": "markdown",
   "id": "db78315a",
   "metadata": {},
   "source": [
    "Du bekommst einen *NameError*, der in etwa so lautet: `name 'a' is not defined`. Das liegt daran, dass a nicht definiert ist, so lange du die Zelle, in der a eben definiert wird, nicht ausgeführt hast. Führe nun erst die Zelle, in der a definiert wird, aus und danach den print-Befehl!\n",
    "\n",
    "Auf solche Dinge musst du bei jupyter achten. Ansonsten kannst du dafür ziemlich coole Sachen *inline* erledigen.\n",
    "\n",
    "Noch ein Tipp, in jupyterlab muss man nicht unbedingt print(var) schreiben, um eine variable var auszugeben. Du kannst auch einfach var schreiben und ausführen. Führe mal einfach die nächste Zelle aus."
   ]
  },
  {
   "cell_type": "code",
   "execution_count": null,
   "id": "805a1c44",
   "metadata": {},
   "outputs": [],
   "source": [
    "a"
   ]
  },
  {
   "cell_type": "code",
   "execution_count": null,
   "id": "d58d5ff6",
   "metadata": {},
   "outputs": [],
   "source": [
    "a"
   ]
  },
  {
   "cell_type": "code",
   "execution_count": null,
   "id": "cf210483",
   "metadata": {},
   "outputs": [],
   "source": []
  }
 ],
 "metadata": {
  "kernelspec": {
   "display_name": "Python 3 (ipykernel)",
   "language": "python",
   "name": "python3"
  },
  "language_info": {
   "codemirror_mode": {
    "name": "ipython",
    "version": 3
   },
   "file_extension": ".py",
   "mimetype": "text/x-python",
   "name": "python",
   "nbconvert_exporter": "python",
   "pygments_lexer": "ipython3",
   "version": "3.11.4"
  },
  "widgets": {
   "application/vnd.jupyter.widget-state+json": {
    "state": {},
    "version_major": 2,
    "version_minor": 0
   }
  }
 },
 "nbformat": 4,
 "nbformat_minor": 5
}
