{
 "cells": [
  {
   "cell_type": "markdown",
   "id": "5c6513c0-c1c7-470d-a31e-0510eca66ea3",
   "metadata": {},
   "source": [
    "# Einstiegsübungen in Python mit Jupyter Lab\n",
    "\n",
    "Mit diesem Notebook, so heißen die sogenannten interaktiven Notizbücher in Jupyterlab, kannst du flexibel Python-Code schreiben und ausführen. Zwischen den Code-Blöcken (Zellen genannt), kannst du Kommentare hineinschreiben."
   ]
  },
  {
   "cell_type": "code",
   "execution_count": null,
   "id": "3e0475ca-65ff-47fe-b1d8-e16f181b61d6",
   "metadata": {},
   "outputs": [],
   "source": []
  }
 ],
 "metadata": {
  "kernelspec": {
   "display_name": "Python 3 (ipykernel)",
   "language": "python",
   "name": "python3"
  },
  "language_info": {
   "codemirror_mode": {
    "name": "ipython",
    "version": 3
   },
   "file_extension": ".py",
   "mimetype": "text/x-python",
   "name": "python",
   "nbconvert_exporter": "python",
   "pygments_lexer": "ipython3",
   "version": "3.11.8"
  },
  "widgets": {
   "application/vnd.jupyter.widget-state+json": {
    "state": {},
    "version_major": 2,
    "version_minor": 0
   }
  }
 },
 "nbformat": 4,
 "nbformat_minor": 5
}
